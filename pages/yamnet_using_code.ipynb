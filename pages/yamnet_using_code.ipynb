{
  "cells": [
    {
      "cell_type": "code",
      "execution_count": null,
      "metadata": {
        "colab": {
          "base_uri": "https://localhost:8080/",
          "height": 521
        },
        "id": "bbQwjpzzCz_V",
        "outputId": "8ddfa2d1-c4d5-41cf-af7e-dd53ea9ff561"
      },
      "outputs": [
        {
<<<<<<< HEAD
          "name": "stdout",
          "output_type": "stream",
          "text": [
            "🔹 Loading YAMNet model...\n"
          ]
        },
        {
=======
>>>>>>> main
          "name": "stderr",
          "output_type": "stream",
          "text": [
            "WARNING:absl:Compiled the loaded model, but the compiled metrics have yet to be built. `model.compile_metrics` will be empty until you train or evaluate the model.\n"
          ]
        },
        {
<<<<<<< HEAD
          "name": "stdout",
          "output_type": "stream",
          "text": [
            "🔹 Loading drone classifier model...\n"
          ]
=======
          "data": {
            "text/html": [
              "\n",
              "     <input type=\"file\" id=\"files-d67d2bfb-93c2-43c4-982b-5b2f5f746c4d\" name=\"files[]\" multiple disabled\n",
              "        style=\"border:none\" />\n",
              "     <output id=\"result-d67d2bfb-93c2-43c4-982b-5b2f5f746c4d\">\n",
              "      Upload widget is only available when the cell has been executed in the\n",
              "      current browser session. Please rerun this cell to enable.\n",
              "      </output>\n",
              "      <script>// Copyright 2017 Google LLC\n",
              "//\n",
              "// Licensed under the Apache License, Version 2.0 (the \"License\");\n",
              "// you may not use this file except in compliance with the License.\n",
              "// You may obtain a copy of the License at\n",
              "//\n",
              "//      http://www.apache.org/licenses/LICENSE-2.0\n",
              "//\n",
              "// Unless required by applicable law or agreed to in writing, software\n",
              "// distributed under the License is distributed on an \"AS IS\" BASIS,\n",
              "// WITHOUT WARRANTIES OR CONDITIONS OF ANY KIND, either express or implied.\n",
              "// See the License for the specific language governing permissions and\n",
              "// limitations under the License.\n",
              "\n",
              "/**\n",
              " * @fileoverview Helpers for google.colab Python module.\n",
              " */\n",
              "(function(scope) {\n",
              "function span(text, styleAttributes = {}) {\n",
              "  const element = document.createElement('span');\n",
              "  element.textContent = text;\n",
              "  for (const key of Object.keys(styleAttributes)) {\n",
              "    element.style[key] = styleAttributes[key];\n",
              "  }\n",
              "  return element;\n",
              "}\n",
              "\n",
              "// Max number of bytes which will be uploaded at a time.\n",
              "const MAX_PAYLOAD_SIZE = 100 * 1024;\n",
              "\n",
              "function _uploadFiles(inputId, outputId) {\n",
              "  const steps = uploadFilesStep(inputId, outputId);\n",
              "  const outputElement = document.getElementById(outputId);\n",
              "  // Cache steps on the outputElement to make it available for the next call\n",
              "  // to uploadFilesContinue from Python.\n",
              "  outputElement.steps = steps;\n",
              "\n",
              "  return _uploadFilesContinue(outputId);\n",
              "}\n",
              "\n",
              "// This is roughly an async generator (not supported in the browser yet),\n",
              "// where there are multiple asynchronous steps and the Python side is going\n",
              "// to poll for completion of each step.\n",
              "// This uses a Promise to block the python side on completion of each step,\n",
              "// then passes the result of the previous step as the input to the next step.\n",
              "function _uploadFilesContinue(outputId) {\n",
              "  const outputElement = document.getElementById(outputId);\n",
              "  const steps = outputElement.steps;\n",
              "\n",
              "  const next = steps.next(outputElement.lastPromiseValue);\n",
              "  return Promise.resolve(next.value.promise).then((value) => {\n",
              "    // Cache the last promise value to make it available to the next\n",
              "    // step of the generator.\n",
              "    outputElement.lastPromiseValue = value;\n",
              "    return next.value.response;\n",
              "  });\n",
              "}\n",
              "\n",
              "/**\n",
              " * Generator function which is called between each async step of the upload\n",
              " * process.\n",
              " * @param {string} inputId Element ID of the input file picker element.\n",
              " * @param {string} outputId Element ID of the output display.\n",
              " * @return {!Iterable<!Object>} Iterable of next steps.\n",
              " */\n",
              "function* uploadFilesStep(inputId, outputId) {\n",
              "  const inputElement = document.getElementById(inputId);\n",
              "  inputElement.disabled = false;\n",
              "\n",
              "  const outputElement = document.getElementById(outputId);\n",
              "  outputElement.innerHTML = '';\n",
              "\n",
              "  const pickedPromise = new Promise((resolve) => {\n",
              "    inputElement.addEventListener('change', (e) => {\n",
              "      resolve(e.target.files);\n",
              "    });\n",
              "  });\n",
              "\n",
              "  const cancel = document.createElement('button');\n",
              "  inputElement.parentElement.appendChild(cancel);\n",
              "  cancel.textContent = 'Cancel upload';\n",
              "  const cancelPromise = new Promise((resolve) => {\n",
              "    cancel.onclick = () => {\n",
              "      resolve(null);\n",
              "    };\n",
              "  });\n",
              "\n",
              "  // Wait for the user to pick the files.\n",
              "  const files = yield {\n",
              "    promise: Promise.race([pickedPromise, cancelPromise]),\n",
              "    response: {\n",
              "      action: 'starting',\n",
              "    }\n",
              "  };\n",
              "\n",
              "  cancel.remove();\n",
              "\n",
              "  // Disable the input element since further picks are not allowed.\n",
              "  inputElement.disabled = true;\n",
              "\n",
              "  if (!files) {\n",
              "    return {\n",
              "      response: {\n",
              "        action: 'complete',\n",
              "      }\n",
              "    };\n",
              "  }\n",
              "\n",
              "  for (const file of files) {\n",
              "    const li = document.createElement('li');\n",
              "    li.append(span(file.name, {fontWeight: 'bold'}));\n",
              "    li.append(span(\n",
              "        `(${file.type || 'n/a'}) - ${file.size} bytes, ` +\n",
              "        `last modified: ${\n",
              "            file.lastModifiedDate ? file.lastModifiedDate.toLocaleDateString() :\n",
              "                                    'n/a'} - `));\n",
              "    const percent = span('0% done');\n",
              "    li.appendChild(percent);\n",
              "\n",
              "    outputElement.appendChild(li);\n",
              "\n",
              "    const fileDataPromise = new Promise((resolve) => {\n",
              "      const reader = new FileReader();\n",
              "      reader.onload = (e) => {\n",
              "        resolve(e.target.result);\n",
              "      };\n",
              "      reader.readAsArrayBuffer(file);\n",
              "    });\n",
              "    // Wait for the data to be ready.\n",
              "    let fileData = yield {\n",
              "      promise: fileDataPromise,\n",
              "      response: {\n",
              "        action: 'continue',\n",
              "      }\n",
              "    };\n",
              "\n",
              "    // Use a chunked sending to avoid message size limits. See b/62115660.\n",
              "    let position = 0;\n",
              "    do {\n",
              "      const length = Math.min(fileData.byteLength - position, MAX_PAYLOAD_SIZE);\n",
              "      const chunk = new Uint8Array(fileData, position, length);\n",
              "      position += length;\n",
              "\n",
              "      const base64 = btoa(String.fromCharCode.apply(null, chunk));\n",
              "      yield {\n",
              "        response: {\n",
              "          action: 'append',\n",
              "          file: file.name,\n",
              "          data: base64,\n",
              "        },\n",
              "      };\n",
              "\n",
              "      let percentDone = fileData.byteLength === 0 ?\n",
              "          100 :\n",
              "          Math.round((position / fileData.byteLength) * 100);\n",
              "      percent.textContent = `${percentDone}% done`;\n",
              "\n",
              "    } while (position < fileData.byteLength);\n",
              "  }\n",
              "\n",
              "  // All done.\n",
              "  yield {\n",
              "    response: {\n",
              "      action: 'complete',\n",
              "    }\n",
              "  };\n",
              "}\n",
              "\n",
              "scope.google = scope.google || {};\n",
              "scope.google.colab = scope.google.colab || {};\n",
              "scope.google.colab._files = {\n",
              "  _uploadFiles,\n",
              "  _uploadFilesContinue,\n",
              "};\n",
              "})(self);\n",
              "</script> "
            ],
            "text/plain": [
              "<IPython.core.display.HTML object>"
            ]
          },
          "metadata": {},
          "output_type": "display_data"
        },
        {
          "name": "stdout",
          "output_type": "stream",
          "text": [
            "Saving flying-drone-whoosh-1-185324.mp3 to flying-drone-whoosh-1-185324 (3).mp3\n",
            "✅ تم رفع الملف: flying-drone-whoosh-1-185324 (3).mp3\n"
          ]
        },
        {
          "name": "stderr",
          "output_type": "stream",
          "text": [
            "Analyzing audio: 100%|██████████| 13/13 [00:02<00:00,  5.32it/s]\n"
          ]
        },
        {
          "data": {
            "image/png": "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",
            "text/plain": [
              "<Figure size 1200x400 with 1 Axes>"
            ]
          },
          "metadata": {},
          "output_type": "display_data"
>>>>>>> main
        }
      ],
      "source": [
        "# ============================\n",
        "# 🧩 Imports\n",
        "# ============================\n",
        "import numpy as np\n",
        "import tensorflow as tf\n",
        "import tensorflow_hub as hub\n",
        "import matplotlib.pyplot as plt\n",
        "import librosa\n",
<<<<<<< HEAD
        "from tqdm import tqdm\n",
        "from tkinter import Tk, filedialog\n",
        "\n",
        "# ============================\n",
        "# ⚙️ Configuration\n",
        "# ============================\n",
        "DEFAULT_SR = 16000  # Default sampling rate (you can change this)\n",
        "WINDOW_SEC = 1.0\n",
        "HOP_SEC = 0.5\n",
=======
        "import soundfile as sf\n",
        "from tqdm import tqdm\n",
        "# from google.colab import files\n",
>>>>>>> main
        "\n",
        "# ============================\n",
        "# 🧠 Load pretrained models\n",
        "# ============================\n",
<<<<<<< HEAD
        "print(\"🔹 Loading YAMNet model...\")\n",
        "yamnet_model = hub.load(\"https://tfhub.dev/google/yamnet/1\")\n",
        "\n",
        "print(\"🔹 Loading drone classifier model...\")\n",
        "drone_model = tf.keras.models.load_model(\"yamnet_drone_classifier.h5\")  # make sure this file is in the same folder\n",
=======
        "yamnet_model = hub.load(\"https://tfhub.dev/google/yamnet/1\")\n",
        "drone_model = tf.keras.models.load_model(\"yamnet_drone_classifier.h5\")  # اسم الموديل بتاعك بعد التدريب\n",
>>>>>>> main
        "\n",
        "# ============================\n",
        "# 🎧 Load full audio file\n",
        "# ============================\n",
<<<<<<< HEAD
        "def load_full_audio(file_path, sr=DEFAULT_SR):\n",
        "    \"\"\"\n",
        "    Load an audio file and resample to the given sampling rate.\n",
        "    \"\"\"\n",
=======
        "def load_full_audio(file_path, sr=16000):\n",
>>>>>>> main
        "    audio, _ = librosa.load(file_path, sr=sr, mono=True)\n",
        "    return audio\n",
        "\n",
        "# ============================\n",
        "# 🪟 Split audio into windows\n",
        "# ============================\n",
<<<<<<< HEAD
        "def sliding_window(audio, sr=DEFAULT_SR, window_sec=WINDOW_SEC, hop_sec=HOP_SEC):\n",
        "    \"\"\"\n",
        "    Split audio into overlapping windows.\n",
        "    \"\"\"\n",
=======
        "def sliding_window(audio, sr=16000, window_sec=1.0, hop_sec=0.5):\n",
>>>>>>> main
        "    window_size = int(window_sec * sr)\n",
        "    hop_size = int(hop_sec * sr)\n",
        "    windows = []\n",
        "    for start in range(0, len(audio) - window_size + 1, hop_size):\n",
        "        segment = audio[start:start + window_size]\n",
        "        windows.append(segment)\n",
<<<<<<< HEAD
        "    # Handle short files\n",
=======
        "    # لو الملف أقصر من نافذة واحدة\n",
>>>>>>> main
        "    if not windows:\n",
        "        pad = np.pad(audio, (0, max(0, window_size - len(audio))))\n",
        "        windows.append(pad)\n",
        "    return np.array(windows)\n",
        "\n",
        "# ============================\n",
        "# 🔍 Analyze full audio\n",
        "# ============================\n",
<<<<<<< HEAD
        "def analyze_audio(file_path, sr=DEFAULT_SR, window_sec=WINDOW_SEC, hop_sec=HOP_SEC):\n",
        "    \"\"\"\n",
        "    Analyze an audio file and detect drone presence over time.\n",
        "    \"\"\"\n",
        "    audio = load_full_audio(file_path, sr=sr)\n",
        "    windows = sliding_window(audio, sr=sr, window_sec=window_sec, hop_sec=hop_sec)\n",
        "    times = np.arange(len(windows)) * hop_sec\n",
        "\n",
        "    preds = []\n",
        "    print(f\"\\n🔍 Analyzing {len(windows)} audio segments...\")\n",
        "    for segment in tqdm(windows, desc=\"Processing\"):\n",
        "        segment_tensor = tf.convert_to_tensor(segment, dtype=tf.float32)\n",
        "        # Extract embeddings using YAMNet\n",
        "        scores, embeddings, spectrogram = yamnet_model(segment_tensor)\n",
        "        mean_embedding = tf.reduce_mean(embeddings, axis=0, keepdims=True)\n",
        "        # Predict with trained model\n",
=======
        "def analyze_audio(file_path, window_sec=1.0, hop_sec=0.5):\n",
        "    audio = load_full_audio(file_path)\n",
        "    windows = sliding_window(audio, window_sec=window_sec, hop_sec=hop_sec)\n",
        "    times = np.arange(len(windows)) * hop_sec\n",
        "\n",
        "    preds = []\n",
        "    for segment in tqdm(windows, desc=\"Analyzing audio\"):\n",
        "        segment_tensor = tf.convert_to_tensor(segment, dtype=tf.float32)\n",
        "        # استخراج المميزات من YAMNet\n",
        "        scores, embeddings, spectrogram = yamnet_model(segment_tensor)\n",
        "        mean_embedding = tf.reduce_mean(embeddings, axis=0, keepdims=True)\n",
        "        # توقع باستخدام الموديل الخاص بك\n",
>>>>>>> main
        "        pred = drone_model.predict(mean_embedding, verbose=0)\n",
        "        preds.append(pred[0])\n",
        "\n",
        "    preds = np.array(preds)\n",
        "    return times, preds\n",
        "\n",
        "# ============================\n",
        "# 📊 Plot detection results\n",
        "# ============================\n",
<<<<<<< HEAD
        "def plot_detection(times, preds, threshold=0.5):\n",
=======
        "def plot_detection(times, preds, class_names=[\"Drone\", \"Noise\"], threshold=0.5):\n",
>>>>>>> main
        "    plt.figure(figsize=(12, 4))\n",
        "    plt.plot(times, preds[:, 0], label=\"Drone Probability\", color=\"red\")\n",
        "    plt.axhline(threshold, color='gray', linestyle='--', label='Threshold')\n",
        "    plt.xlabel(\"Time (s)\")\n",
        "    plt.ylabel(\"Probability\")\n",
        "    plt.title(\"Drone Detection Timeline\")\n",
        "    plt.legend()\n",
        "    plt.grid(True)\n",
        "    plt.show()\n",
        "\n",
        "# ============================\n",
<<<<<<< HEAD
        "# 🧪 Main Execution\n",
        "# ============================\n",
        "if __name__ == \"__main__\":\n",
        "    # Choose audio file interactively\n",
        "    root = Tk()\n",
        "    root.withdraw()  # Hide tkinter window\n",
        "    file_path = filedialog.askopenfilename(\n",
        "        title=\"Select an audio file\",\n",
        "        filetypes=[(\"Audio Files\", \"*.wav *.mp3 *.flac *.ogg\")]\n",
        "    )\n",
        "    \n",
        "    if not file_path:\n",
        "        print(\"❌ No file selected.\")\n",
        "        exit()\n",
        "\n",
        "    print(f\"\\n✅ Selected file: {file_path}\")\n",
        "\n",
        "    # Choose sampling rate\n",
        "    try:\n",
        "        sr = int(input(f\"Enter sampling rate (default = {DEFAULT_SR}): \") or DEFAULT_SR)\n",
        "    except ValueError:\n",
        "        sr = DEFAULT_SR\n",
        "\n",
        "    print(f\"🎚 Using sampling rate: {sr} Hz\")\n",
        "\n",
        "    # Run analysis\n",
        "    times, preds = analyze_audio(file_path, sr=sr)\n",
        "    plot_detection(times, preds)\n"
=======
        "# 🧪 Upload + Test\n",
        "# ============================\n",
        "uploaded = files.upload()\n",
        "file_path = list(uploaded.keys())[0]\n",
        "print(f\"✅ تم رفع الملف: {file_path}\")\n",
        "\n",
        "times, preds = analyze_audio(file_path)\n",
        "plot_detection(times, preds)\n"
>>>>>>> main
      ]
    }
  ],
  "metadata": {
    "colab": {
      "provenance": []
    },
    "kernelspec": {
<<<<<<< HEAD
      "display_name": "venv",
      "language": "python",
      "name": "python3"
    },
    "language_info": {
      "codemirror_mode": {
        "name": "ipython",
        "version": 3
      },
      "file_extension": ".py",
      "mimetype": "text/x-python",
      "name": "python",
      "nbconvert_exporter": "python",
      "pygments_lexer": "ipython3",
      "version": "3.12.10"
=======
      "display_name": "Python 3",
      "name": "python3"
    },
    "language_info": {
      "name": "python"
>>>>>>> main
    }
  },
  "nbformat": 4,
  "nbformat_minor": 0
}
